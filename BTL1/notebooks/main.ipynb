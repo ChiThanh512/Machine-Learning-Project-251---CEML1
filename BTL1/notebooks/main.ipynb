{
  "cells": [
    {
      "cell_type": "markdown",
      "source": [
        "# **Car Price Prediction**\n",
        "\n",
        "**Mục tiêu:**\n",
        "Xây dựng Pipeline học máy truyền thống cho vấn đề trên.\n",
        "\n",
        "1.  **EDA (Exploratory Data Analysis):**\n",
        "    *   Thống kê mô tả dữ liệu, trực quan hóa để hiểu rõ các biến.\n",
        "    *   Phát hiện dữ liệu thiếu, giá trị ngoại lai và xu hướng phân phối.\n",
        "\n",
        "2.  **Tiền xử lý dữ liệu (Data Preprocessing):**\n",
        "    *   Làm sạch dữ liệu, xử lý các giá trị bị thiếu.\n",
        "    *   Mã hóa dữ liệu phân loại (One-Hot Encoding, Label Encoding).\n",
        "    *   Chuẩn hóa dữ liệu số (StandardScaler, MinMaxScaler).\n",
        "    *   Chia tập dữ liệu thành tập huấn luyện (train) và tập kiểm tra (test).\n",
        "\n",
        "3.  **Trích xuất và lựa chọn đặc trưng (Feature Engineering & Selection):**\n",
        "    *   Tạo ra các đặc trưng mới có ý nghĩa hơn từ dữ liệu gốc (ví dụ: tuổi của xe).\n",
        "    *   Lựa chọn những đặc trưng quan trọng nhất để đưa vào mô hình.\n",
        "\n",
        "4.  **Huấn luyện mô hình (Model Training):**\n",
        "    *   Áp dụng các thuật toán học máy phù hợp cho bài toán **hồi quy (regression)** như:\n",
        "        *   Logistic Regression\n",
        "        *   SVM\n",
        "        *   Random Forest\n",
        "\n",
        "5.  **Đánh giá mô hình (Model Evaluation):**\n",
        "    *   Sử dụng các chỉ số đánh giá cho bài toán hồi quy:\n",
        "        *   Accuracy\n",
        "        *   Precision\n",
        "        *   Recall\n",
        "        *   F1-score\n",
        "\n",
        "**Yêu cầu:**\n",
        "* Các nhóm không được chọn trùng tập dữ liệu.\n",
        "* Tập dữ liệu phải có missing value để sinh viên thực hành kỹ thuật imputation.\n",
        "* Tập dữ liệu phải có categorical value để sinh viên thực hành các kỹ thuật\n",
        "encoding.\n",
        "* Số lượng mẫu (sample size) đủ lớn để pipeline có ý nghĩa; việc lựa chọn cụ thể\n",
        "nên được thảo luận trực tiếp với giảng viên trên lớp.\n",
        "\n",
        "**Nhiệm vụ:** mỗi nhóm phải xây dựng một pipeline học máy truyền thống cho\n",
        "dữ liệu dạng bảng. Pipeline này phải được thiết kế sao cho cho phép cấu hình các kỹ\n",
        "thuật và tham số ở từng bước. Ví dụ:\n",
        "* Scaling: có thể lựa chọn MinMaxScaler hoặc StandardScaler; nếu chọn MinMaxScaler,\n",
        "sinh viên cần cấu hình feature_range.\n",
        "* Giảm số chiều: có thể lựa chọn PCA với các mức giữ lại phương sai khác nhau\n",
        "(90%, 95%, ...).\n",
        "* Mô hình: có thể lựa chọn Logistic Regression, SVM, Random Forest và so sánh\n",
        "kết quả.\n",
        "\n",
        "Kết quả cuối cùng cần bao gồm: báo cáo phân tích EDA, mô tả pipeline, các tham\n",
        "số đã thử nghiệm, và so sánh hiệu quả giữa các cấu hình."
      ],
      "metadata": {
        "id": "kx5WDhlzcAaO"
      },
      "id": "kx5WDhlzcAaO"
    },
    {
      "cell_type": "markdown",
      "source": [
        "## **1. Thiết lập môi trường và Tải dữ liệu**\n",
        "\n"
      ],
      "metadata": {
        "id": "PSAJYzO1iHHo"
      },
      "id": "PSAJYzO1iHHo"
    },
    {
      "cell_type": "markdown",
      "source": [
        "### **1.1 Import thư viện và cấu hình Kaggle API từ Secrets**"
      ],
      "metadata": {
        "id": "PKO31Xk5nAsQ"
      },
      "id": "PKO31Xk5nAsQ"
    },
    {
      "cell_type": "code",
      "execution_count": 19,
      "id": "4551d7af",
      "metadata": {
        "colab": {
          "base_uri": "https://localhost:8080/"
        },
        "id": "4551d7af",
        "outputId": "423f90a8-8be3-4e29-cd43-66163dfcb824"
      },
      "outputs": [
        {
          "output_type": "stream",
          "name": "stdout",
          "text": [
            "Các thư viện đã được import và cấu hình.\n"
          ]
        }
      ],
      "source": [
        "import os\n",
        "import pandas as pd\n",
        "from google.colab import userdata\n",
        "import matplotlib.pyplot as plt\n",
        "import seaborn as sns\n",
        "\n",
        "sns.set_style(\"whitegrid\")\n",
        "print(\"Các thư viện đã được import và cấu hình.\")\n",
        "\n",
        "# Tự động cấu hình Kaggle API\n",
        "os.environ['KAGGLE_USERNAME'] = userdata.get('KAGGLE_USERNAME')\n",
        "os.environ['KAGGLE_KEY'] = userdata.get('KAGGLE_KEY')"
      ]
    },
    {
      "cell_type": "markdown",
      "source": [
        "### **1.2 Tải, giải nén và đọc dữ liệu**"
      ],
      "metadata": {
        "id": "fGXKXM6-nSF6"
      },
      "id": "fGXKXM6-nSF6"
    },
    {
      "cell_type": "code",
      "execution_count": 26,
      "id": "d694724f",
      "metadata": {
        "colab": {
          "base_uri": "https://localhost:8080/"
        },
        "id": "d694724f",
        "outputId": "ef713cc8-4005-42c5-e075-97a02d27e9bc"
      },
      "outputs": [
        {
          "output_type": "stream",
          "name": "stdout",
          "text": [
            "Dataset URL: https://www.kaggle.com/datasets/deepcontractor/car-price-prediction-challenge\n",
            "License(s): CC0-1.0\n",
            "car-price-prediction-challenge.zip: Skipping, found more recently modified local copy (use --force to force download)\n",
            "\n",
            "Đọc dataset thành công!\n"
          ]
        }
      ],
      "source": [
        "!pip install kaggle --quiet\n",
        "!kaggle datasets download -d deepcontractor/car-price-prediction-challenge -p ./data\n",
        "\n",
        "# Thêm cờ -o để tự động ghi đè file cũ, tránh bị hỏi và gây lỗi\n",
        "!unzip -o -q ./data/car-price-prediction-challenge.zip -d ./data\n",
        "\n",
        "# Đọc file 'train.csv' (đây là file dữ liệu huấn luyện)\n",
        "try:\n",
        "    df = pd.read_csv('./data/car_price_prediction.csv')\n",
        "    print(\"\\nĐọc dataset thành công!\")\n",
        "except FileNotFoundError:\n",
        "    print(\"\\nLỗi: Không tìm thấy dataset. Vui lòng kiểm tra lại kết quả lệnh 'ls' ở trên.\")"
      ]
    },
    {
      "cell_type": "markdown",
      "source": [
        "## **2. EDA (Exploratory Data Analysis)**"
      ],
      "metadata": {
        "id": "jzdgvEaDigho"
      },
      "id": "jzdgvEaDigho"
    },
    {
      "cell_type": "markdown",
      "source": [
        "### **2.1 Xem thông tin tổng quan (kiểu dữ liệu, số lượng giá trị không rỗng)**"
      ],
      "metadata": {
        "id": "toRQItw5m1ZU"
      },
      "id": "toRQItw5m1ZU"
    },
    {
      "cell_type": "code",
      "source": [
        "print(\"\\nThông tin tổng quan về các cột:\")\n",
        "df.info()"
      ],
      "metadata": {
        "colab": {
          "base_uri": "https://localhost:8080/"
        },
        "id": "F8LJi7WzODa3",
        "outputId": "9e7a2bb5-e947-4872-8264-dbd3b4939bdd"
      },
      "id": "F8LJi7WzODa3",
      "execution_count": 32,
      "outputs": [
        {
          "output_type": "stream",
          "name": "stdout",
          "text": [
            "\n",
            "Thông tin tổng quan về các cột:\n",
            "<class 'pandas.core.frame.DataFrame'>\n",
            "RangeIndex: 19237 entries, 0 to 19236\n",
            "Data columns (total 18 columns):\n",
            " #   Column            Non-Null Count  Dtype  \n",
            "---  ------            --------------  -----  \n",
            " 0   ID                19237 non-null  int64  \n",
            " 1   Price             19237 non-null  int64  \n",
            " 2   Levy              19237 non-null  object \n",
            " 3   Manufacturer      19237 non-null  object \n",
            " 4   Model             19237 non-null  object \n",
            " 5   Prod. year        19237 non-null  int64  \n",
            " 6   Category          19237 non-null  object \n",
            " 7   Leather interior  19237 non-null  object \n",
            " 8   Fuel type         19237 non-null  object \n",
            " 9   Engine volume     19237 non-null  object \n",
            " 10  Mileage           19237 non-null  object \n",
            " 11  Cylinders         19237 non-null  float64\n",
            " 12  Gear box type     19237 non-null  object \n",
            " 13  Drive wheels      19237 non-null  object \n",
            " 14  Doors             19237 non-null  object \n",
            " 15  Wheel             19237 non-null  object \n",
            " 16  Color             19237 non-null  object \n",
            " 17  Airbags           19237 non-null  int64  \n",
            "dtypes: float64(1), int64(4), object(13)\n",
            "memory usage: 2.6+ MB\n"
          ]
        }
      ]
    },
    {
      "cell_type": "markdown",
      "source": [
        "### **2.2 Phân phối dữ liệu của từng cột**\n",
        "\n",
        "Trong phần này, chúng ta sẽ trực quan hóa phân phối của từng cột để hiểu rõ hơn về đặc điểm của chúng.\n",
        "- **Biến số:** Sử dụng biểu đồ Histogram (để xem hình dạng phân phối) và Boxplot (để phát hiện giá trị ngoại lai).\n",
        "- **Biến phân loại:** Sử dụng biểu đồ Countplot (để xem tần suất của từng danh mục)."
      ],
      "metadata": {
        "id": "26b1g-pTpijc"
      },
      "id": "26b1g-pTpijc"
    }
  ],
  "metadata": {
    "kernelspec": {
      "display_name": "Python 3",
      "language": "python",
      "name": "python3"
    },
    "language_info": {
      "codemirror_mode": {
        "name": "ipython",
        "version": 3
      },
      "file_extension": ".py",
      "mimetype": "text/x-python",
      "name": "python",
      "nbconvert_exporter": "python",
      "pygments_lexer": "ipython3",
      "version": "3.13.3"
    },
    "colab": {
      "provenance": [],
      "toc_visible": true
    }
  },
  "nbformat": 4,
  "nbformat_minor": 5
}