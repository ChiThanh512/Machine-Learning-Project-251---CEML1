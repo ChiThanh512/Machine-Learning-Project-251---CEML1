{
 "cells": [
  {
   "cell_type": "code",
   "execution_count": null,
   "id": "9515220c",
   "metadata": {},
   "outputs": [],
   "source": [
    "import librosa\n",
    "import librosa.display as dsp\n",
    "from IPython.display import Audio\n",
    "import pandas as pd\n",
    "import numpy as np\n",
    "import sys\n",
    "import os\n",
    "import matplotlib.pyplot as plt\n",
    "import seaborn as sns\n",
    "from tqdm import tqdm"
   ]
  },
  {
   "cell_type": "code",
   "execution_count": null,
   "id": "4551d7af",
   "metadata": {},
   "outputs": [],
   "source": [
    "# 1. Quay về thư mục gốc của Colab để đảm bảo vị trí đúng\n",
    "%cd /content\n",
    "\n",
    "# 2. Xóa thư mục dự án cũ đi nếu nó tồn tại (đây chính là bước \"ghi đè\")\n",
    "PROJECT_DIR = 'project_dir'\n",
    "if os.path.exists(PROJECT_DIR):\n",
    "    print(f\"Thư mục '{PROJECT_DIR}' đã tồn tại. Đang xóa để ghi đè...\")\n",
    "    !rm -rf {PROJECT_DIR}\n",
    "\n",
    "# 3. Tạo lại thư mục dự án và di chuyển vào đó\n",
    "print(f\"Tạo thư mục mới '{PROJECT_DIR}'...\")\n",
    "!mkdir {PROJECT_DIR}\n",
    "%cd {PROJECT_DIR}\n",
    "\n",
    "# 4. Khởi tạo git và tải code bằng sparse checkout\n",
    "print(\"Đang tải code từ GitHub...\")\n",
    "!git init\n",
    "!git remote add origin https://github.com/ChiThanh512/Machine-Learning-Project-251---CEML1.git\n",
    "!git config core.sparsecheckout true\n",
    "!echo \"HPMR/\" >> .git/info/sparse-checkout\n",
    "!git pull origin main\n",
    "\n",
    "# 5. Kiểm tra kết quả\n",
    "print(\"\\n--- Cấu trúc thư mục sau khi tải: ---\")\n",
    "!ls -R"
   ]
  },
  {
   "cell_type": "code",
   "execution_count": null,
   "id": "ea699e6c",
   "metadata": {},
   "outputs": [],
   "source": [
    "# Thêm đường dẫn đến thư mục HPMR vào sys.path\n",
    "hpmr_path = os.path.abspath('HPMR')\n",
    "if hpmr_path not in sys.path:\n",
    "    sys.path.append(hpmr_path)\n",
    "    print(f\"Đã thêm '{hpmr_path}' vào sys.path\")\n",
    "\n",
    "# Import hàm download từ module data_loader\n",
    "from modules.data_loader import download_kaggle_dataset\n",
    "\n",
    "print(\"Import hàm 'download_kaggle_dataset' thành công!\")"
   ]
  },
  {
   "cell_type": "code",
   "execution_count": null,
   "id": "d3c4aa1e",
   "metadata": {},
   "outputs": [],
   "source": [
    "# --- Cấu hình ---\n",
    "KAGGLE_USER = 'nguyenk512'\n",
    "KAGGLE_API_KEY = '187454a718c857637f7319f39e33b509'\n",
    "DATASET_TO_DOWNLOAD = 'subhajournal/free-spoken-digit-database'\n",
    "TARGET_DIRECTORY = './HPMR/spoken_digit_data' # Thư mục sẽ được tạo bên trong project_dir\n",
    "\n",
    "# --- Gọi hàm đã import ---\n",
    "download_kaggle_dataset(\n",
    "    dataset_name=DATASET_TO_DOWNLOAD,\n",
    "    username=KAGGLE_USER,\n",
    "    key=KAGGLE_API_KEY,\n",
    "    download_dir=TARGET_DIRECTORY\n",
    ")"
   ]
  },
  {
   "cell_type": "code",
   "execution_count": null,
   "id": "b90d51d1",
   "metadata": {},
   "outputs": [],
   "source": [
    "# Đường dẫn đến thư mục dữ liệu đã tải về\n",
    "# (Giả sử bạn đang ở trong thư mục 'project_dir')\n",
    "DATA_FOLDER = './spoken_digit_data' \n",
    "\n",
    "# Đường dẫn để lưu file kết quả vào thư mục 'features'\n",
    "# (Lưu ý: file này nằm trong thư mục HPMR)\n",
    "SAVE_FILE_PATH = './HPMR/features/processed_features.pkl'\n",
    "\n",
    "# Gọi hàm để bắt đầu quá trình\n",
    "create_dataset_from_folders(root_folder_path=DATA_FOLDER, save_path=SAVE_FILE_PATH)"
   ]
  }
 ],
 "metadata": {
  "language_info": {
   "name": "python"
  }
 },
 "nbformat": 4,
 "nbformat_minor": 5
}
