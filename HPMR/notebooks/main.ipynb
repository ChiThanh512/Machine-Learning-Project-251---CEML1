{
 "cells": [
  {
   "cell_type": "code",
   "execution_count": null,
   "id": "4551d7af",
   "metadata": {},
   "outputs": [],
   "source": [
    "# --- SỬ DỤNG GIT SPARSE CHECKOUT ĐỂ TẢI THƯ MỤC 'HPMR' ---\n",
    "\n",
    "# 1. Tạo một thư mục để chứa dự án và di chuyển vào đó\n",
    "!mkdir project_dir\n",
    "%cd project_dir\n",
    "\n",
    "# 2. Khởi tạo một kho git trống và cấu hình để chỉ lấy về thư mục mong muốn\n",
    "!git init\n",
    "!git remote add origin https://github.com/ChiThanh512/Machine-Learning-Project-251---CEML1.git\n",
    "!git config core.sparsecheckout true\n",
    "\n",
    "# 3. Ghi tên thư mục bạn muốn tải vào file cấu hình (quan trọng: phải có dấu / ở cuối)\n",
    "!echo \"HPMR/\" >> .git/info/sparse-checkout\n",
    "\n",
    "# 4. Kéo (pull) dữ liệu từ nhánh main của repository\n",
    "# Lệnh này sẽ chỉ tải về thư mục 'HPMR' mà bạn đã chỉ định\n",
    "!git pull origin main\n",
    "\n",
    "# 5. Kiểm tra kết quả\n",
    "# Bạn sẽ thấy thư mục HPMR đã được tải về\n",
    "print(\"\\n--- Cấu trúc thư mục sau khi tải: ---\")\n",
    "!ls -R"
   ]
  },
  {
   "cell_type": "code",
   "execution_count": null,
   "id": "ea699e6c",
   "metadata": {},
   "outputs": [],
   "source": [
    "from modules import data_loader\n",
    "import sys\n",
    "import os"
   ]
  },
  {
   "cell_type": "code",
   "execution_count": null,
   "id": "d3c4aa1e",
   "metadata": {},
   "outputs": [],
   "source": [
    "KAGGLE_USER = 'nguyenk512'\n",
    "KAGGLE_API_KEY = '187454a718c857637f7319f39e33b509'\n",
    "DATASET_TO_DOWNLOAD = 'subhajournal/free-spoken-digit-database'\n",
    "TARGET_DIRECTORY = './spoken_digit_data' # Đặt tên thư mục bạn muốn\n",
    "\n",
    "# --- Gọi hàm ---\n",
    "download_kaggle_dataset(\n",
    "    dataset_name=DATASET_TO_DOWNLOAD,\n",
    "    username=KAGGLE_USER,\n",
    "    key=KAGGLE_API_KEY,\n",
    "    download_dir=TARGET_DIRECTORY\n",
    ")"
   ]
  }
 ],
 "metadata": {
  "language_info": {
   "name": "python"
  }
 },
 "nbformat": 4,
 "nbformat_minor": 5
}
