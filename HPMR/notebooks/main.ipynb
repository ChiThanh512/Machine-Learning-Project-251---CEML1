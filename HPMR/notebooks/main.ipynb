{
  "cells": [
    {
      "cell_type": "code",
      "execution_count": 1,
      "id": "4551d7af",
      "metadata": {
        "id": "4551d7af",
        "outputId": "57114bff-4303-4356-a0c6-7733101c0efc",
        "colab": {
          "base_uri": "https://localhost:8080/"
        }
      },
      "outputs": [
        {
          "output_type": "stream",
          "name": "stdout",
          "text": [
            "/content/project_dir\n",
            "\u001b[33mhint: Using 'master' as the name for the initial branch. This default branch name\u001b[m\n",
            "\u001b[33mhint: is subject to change. To configure the initial branch name to use in all\u001b[m\n",
            "\u001b[33mhint: of your new repositories, which will suppress this warning, call:\u001b[m\n",
            "\u001b[33mhint: \u001b[m\n",
            "\u001b[33mhint: \tgit config --global init.defaultBranch <name>\u001b[m\n",
            "\u001b[33mhint: \u001b[m\n",
            "\u001b[33mhint: Names commonly chosen instead of 'master' are 'main', 'trunk' and\u001b[m\n",
            "\u001b[33mhint: 'development'. The just-created branch can be renamed via this command:\u001b[m\n",
            "\u001b[33mhint: \u001b[m\n",
            "\u001b[33mhint: \tgit branch -m <name>\u001b[m\n",
            "Initialized empty Git repository in /content/project_dir/.git/\n",
            "remote: Enumerating objects: 208, done.\u001b[K\n",
            "remote: Counting objects: 100% (82/82), done.\u001b[K\n",
            "remote: Compressing objects: 100% (68/68), done.\u001b[K\n",
            "remote: Total 208 (delta 27), reused 44 (delta 12), pack-reused 126 (from 1)\u001b[K\n",
            "Receiving objects: 100% (208/208), 59.64 MiB | 18.25 MiB/s, done.\n",
            "Resolving deltas: 100% (65/65), done.\n",
            "From https://github.com/ChiThanh512/Machine-Learning-Project-251---CEML1\n",
            " * branch            main       -> FETCH_HEAD\n",
            " * [new branch]      main       -> origin/main\n",
            "\n",
            "--- Cấu trúc thư mục sau khi tải: ---\n",
            ".:\n",
            "HPMR\n",
            "\n",
            "./HPMR:\n",
            "features  modules  notebooks  reports\n",
            "\n",
            "./HPMR/features:\n",
            "sample.txt\n",
            "\n",
            "./HPMR/modules:\n",
            "data_loader.py\tEDA.py\tfeature_engineering.py\tpreprocessing.py  training.py\n",
            "\n",
            "./HPMR/notebooks:\n",
            "main.ipynb\n",
            "\n",
            "./HPMR/reports:\n",
            "DL_train.tex\t\tgraphics\t  ML_train.tex\n",
            "EDA_prep.tex\t\thcmut_report.cls  output\n",
            "Feature_extraction.tex\tmain.tex\t  references.bib\n",
            "\n",
            "./HPMR/reports/graphics:\n",
            "hcmut.png\n",
            "\n",
            "./HPMR/reports/output:\n",
            "bai1.aux      Feature_extraction.aux  main.fdb_latexmk\tmain.synctex.gz\n",
            "bai2.aux      hpmr.aux\t\t      main.fls\t\tmain.toc\n",
            "bai3.aux      main.aux\t\t      main.log\t\tML_train.aux\n",
            "DL_train.aux  main.bbl\t\t      main.out\n",
            "EDA_prep.aux  main.blg\t\t      main.pdf\n"
          ]
        }
      ],
      "source": [
        "# --- SỬ DỤNG GIT SPARSE CHECKOUT ĐỂ TẢI THƯ MỤC 'HPMR' ---\n",
        "\n",
        "# 1. Tạo một thư mục để chứa dự án và di chuyển vào đó\n",
        "!mkdir project_dir\n",
        "%cd project_dir\n",
        "\n",
        "# 2. Khởi tạo một kho git trống và cấu hình để chỉ lấy về thư mục mong muốn\n",
        "!git init\n",
        "!git remote add origin https://github.com/ChiThanh512/Machine-Learning-Project-251---CEML1.git\n",
        "!git config core.sparsecheckout true\n",
        "\n",
        "# 3. Ghi tên thư mục bạn muốn tải vào file cấu hình (quan trọng: phải có dấu / ở cuối)\n",
        "!echo \"HPMR/\" >> .git/info/sparse-checkout\n",
        "\n",
        "# 4. Kéo (pull) dữ liệu từ nhánh main của repository\n",
        "# Lệnh này sẽ chỉ tải về thư mục 'HPMR' mà bạn đã chỉ định\n",
        "!git pull origin main\n",
        "\n",
        "# 5. Kiểm tra kết quả\n",
        "# Bạn sẽ thấy thư mục HPMR đã được tải về\n",
        "print(\"\\n--- Cấu trúc thư mục sau khi tải: ---\")\n",
        "!ls -R"
      ]
    },
    {
      "cell_type": "code",
      "execution_count": 2,
      "id": "ea699e6c",
      "metadata": {
        "id": "ea699e6c",
        "outputId": "93e115ea-7675-4ae7-ca83-a4a1425dc04f",
        "colab": {
          "base_uri": "https://localhost:8080/"
        }
      },
      "outputs": [
        {
          "output_type": "stream",
          "name": "stdout",
          "text": [
            "Đã thêm '/content/project_dir/HPMR' vào sys.path\n",
            "Import hàm 'download_kaggle_dataset' thành công!\n"
          ]
        }
      ],
      "source": [
        "import sys\n",
        "import os\n",
        "\n",
        "# Thêm đường dẫn đến thư mục HPMR vào sys.path\n",
        "hpmr_path = os.path.abspath('HPMR')\n",
        "if hpmr_path not in sys.path:\n",
        "    sys.path.append(hpmr_path)\n",
        "    print(f\"Đã thêm '{hpmr_path}' vào sys.path\")\n",
        "\n",
        "# Import hàm download từ module data_loader\n",
        "from modules.data_loader import download_kaggle_dataset\n",
        "\n",
        "print(\"Import hàm 'download_kaggle_dataset' thành công!\")"
      ]
    },
    {
      "cell_type": "code",
      "execution_count": 3,
      "id": "d3c4aa1e",
      "metadata": {
        "id": "d3c4aa1e",
        "outputId": "4197bd72-5ee2-4594-d306-d7cb36ce1b46",
        "colab": {
          "base_uri": "https://localhost:8080/"
        }
      },
      "outputs": [
        {
          "output_type": "stream",
          "name": "stdout",
          "text": [
            "--- Bắt đầu quá trình tải dataset từ Kaggle ---\n",
            "1. Cài đặt thư viện Kaggle...\n",
            "2. Thiết lập thông tin xác thực...\n",
            "3. Đảm bảo thư mục './spoken_digit_data' tồn tại...\n",
            "4. Tải dataset 'subhajournal/free-spoken-digit-database'...\n",
            "5. Giải nén file './spoken_digit_data/free-spoken-digit-database.zip'...\n",
            "   Giải nén thành công.\n",
            "\n",
            "--- Quá trình hoàn tất! ---\n",
            "Dữ liệu đã sẵn sàng trong thư mục './spoken_digit_data'.\n"
          ]
        }
      ],
      "source": [
        "# --- Cấu hình ---\n",
        "KAGGLE_USER = 'nguyenk512'\n",
        "KAGGLE_API_KEY = '187454a718c857637f7319f39e33b509'\n",
        "DATASET_TO_DOWNLOAD = 'subhajournal/free-spoken-digit-database'\n",
        "TARGET_DIRECTORY = './spoken_digit_data' # Thư mục sẽ được tạo bên trong project_dir\n",
        "\n",
        "# --- Gọi hàm đã import ---\n",
        "download_kaggle_dataset(\n",
        "    dataset_name=DATASET_TO_DOWNLOAD,\n",
        "    username=KAGGLE_USER,\n",
        "    key=KAGGLE_API_KEY,\n",
        "    download_dir=TARGET_DIRECTORY\n",
        ")"
      ]
    }
  ],
  "metadata": {
    "language_info": {
      "name": "python"
    },
    "colab": {
      "provenance": []
    },
    "kernelspec": {
      "name": "python3",
      "display_name": "Python 3"
    }
  },
  "nbformat": 4,
  "nbformat_minor": 5
}